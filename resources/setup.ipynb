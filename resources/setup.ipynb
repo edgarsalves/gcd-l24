{
  "nbformat": 4,
  "nbformat_minor": 0,
  "metadata": {
    "colab": {
      "name": "setup.ipynb",
      "cell_execution_strategy": "setup",
      "provenance": [],
      "collapsed_sections": [
        "VI0xLxmm7HBa",
        "slLY-3tFCQRd",
        "Q8TQa2BMPy1h",
        "QI8a3JYPFR9f",
        "K6tR4LxCISBt"
      ]
    },
    "kernelspec": {
      "name": "python3",
      "display_name": "Python 3"
    },
    "language_info": {
      "name": "python"
    }
  },
  "cells": [
    {
      "cell_type": "markdown",
      "source": [
        "# Setup : Enable necessary APIs\n",
        "*   Dataform API\n",
        "*   BigQuery API\n",
        "*   BigQuery Connection API\n",
        "*   Vertex AI API\n",
        "*   Compute Engine API\n",
        "*   Cloud Build API\n",
        "*   Cloud Functions API\n",
        "*   Cloud Logging API\n",
        "*   Cloud Pub/Sub API\n",
        "*   Cloud Run Admin API\n",
        "*   Cloud Speech-to-Text API\n",
        "*   Secret Manager API\n",
        "\n",
        "*API List: https://developers.google.com/apis-explorer*\n",
        "\n",
        "*Validate API Activation: https://console.cloud.google.com/apis/dashboard*"
      ],
      "metadata": {
        "id": "VI0xLxmm7HBa"
      }
    },
    {
      "cell_type": "code",
      "source": [
        "#APIs\n",
        "!gcloud services enable dataform.googleapis.com bigquery.googleapis.com bigqueryconnection.googleapis.com aiplatform.googleapis.com compute.googleapis.com cloudbuild.googleapis.com cloudfunctions.googleapis.com logging.googleapis.com pubsub.googleapis.com run.googleapis.com speech.googleapis.com secretmanager.googleapis.com"
      ],
      "metadata": {
        "id": "L5J9dEHDCRvz"
      },
      "execution_count": null,
      "outputs": []
    },
    {
      "cell_type": "markdown",
      "source": [
        "# Setup : Create a Connection to an External Data Source in BigQuery and Grant the Permissions to use Vertex AI and Invoke Cloud Functions to the LLM Service Account.\n",
        "\n",
        "*Roles List: https://cloud.google.com/iam/docs/understanding-roles*\n",
        "\n",
        "*Validate Permitted Roles: https://console.cloud.google.com/iam-admin/iam*"
      ],
      "metadata": {
        "id": "slLY-3tFCQRd"
      }
    },
    {
      "cell_type": "code",
      "execution_count": null,
      "metadata": {
        "id": "bIw82qhuHWy0"
      },
      "outputs": [],
      "source": [
        "#connection\n",
        "!bq mk --connection --location=eu --connection_type=CLOUD_RESOURCE llm_conn"
      ]
    },
    {
      "cell_type": "code",
      "source": [
        "import os\n",
        "PROJECT_ID = os.environ[\"GOOGLE_CLOUD_PROJECT\"]\n",
        "\n",
        "SERVICE_ACCT = !bq show --format=prettyjson --connection eu.llm_conn | grep \"serviceAccountId\" | cut -d '\"' -f 4\n",
        "SERVICE_ACCT_EMAIL = SERVICE_ACCT[-1]\n",
        "SERVICE_ACCT_MEMBER = 'serviceAccount:' + SERVICE_ACCT_EMAIL\n",
        "\n",
        "###################################\n",
        "#AI platform\n",
        "gcloud_aiplatform = f\"\"\"\n",
        "gcloud projects add-iam-policy-binding {PROJECT_ID} --condition=None --no-user-output-enabled --member=\"{SERVICE_ACCT_MEMBER}\" --role=\"roles/aiplatform.user\"\n",
        "\"\"\"\n",
        "print(gcloud_aiplatform)\n",
        "!$gcloud_aiplatform\n",
        "\n",
        "###################################\n",
        "# 1st gen cloud functions\n",
        "gcloud_cloudfunctionsinvoker = f\"\"\"\n",
        "gcloud projects add-iam-policy-binding {PROJECT_ID} --condition=None --no-user-output-enabled --member=\"{SERVICE_ACCT_MEMBER}\" --role=\"roles/cloudfunctions.invoker\"\n",
        "\"\"\"\n",
        "print(gcloud_cloudfunctionsinvoker)\n",
        "!$gcloud_cloudfunctionsinvoker\n",
        "\n",
        "###################################\n",
        "#2nd gen cloud functions\n",
        "gcloud_runinvoker = f\"\"\"\n",
        "gcloud projects add-iam-policy-binding {PROJECT_ID} --condition=None --no-user-output-enabled --member=\"{SERVICE_ACCT_MEMBER}\" --role=\"roles/run.invoker\"\n",
        "\"\"\"\n",
        "print(gcloud_runinvoker)\n",
        "!$gcloud_runinvoker\n",
        "\n",
        "###################################\n",
        "#IAM roles validation\n",
        "!gcloud projects get-iam-policy $PROJECT_ID --flatten=\"bindings[].members\" --format=\"table(bindings.role)\" --filter=\"bindings.members:$SERVICE_ACCT_MEMBER\""
      ],
      "metadata": {
        "id": "cVI4n4KlBnkr",
        "collapsed": true
      },
      "execution_count": null,
      "outputs": []
    },
    {
      "cell_type": "markdown",
      "source": [
        "# Setup : Deploy the Cloud Function and Grant the Corresponding Permissions to the LLM Service Account\n",
        "\n",
        "*More Info:*\n",
        "- *https://cloud.google.com/functions/docs/create-deploy-gcloud*\n",
        "- *https://cloud.google.com/sdk/gcloud/reference/functions/deploy*\n",
        "\n",
        "*Validate Cloud Functions Installed: https://console.cloud.google.com/functions/list*"
      ],
      "metadata": {
        "id": "Q8TQa2BMPy1h"
      }
    },
    {
      "cell_type": "code",
      "source": [
        "CLOUD_FUNCTION_NAME = \"bigquery_external_function\"\n",
        "#the cloud function zip must be in the following directory to be deployed (it must include both main.py and requirements.txt files)\n",
        "FUNCTION_ZIP_GCS_URI = f\"gs://{PROJECT_ID}/{CLOUD_FUNCTION_NAME}.zip\"\n",
        "REGION = \"europe-west4\""
      ],
      "metadata": {
        "id": "140zR8KHRCDH",
        "executionInfo": {
          "status": "ok",
          "timestamp": 1718806555159,
          "user_tz": -60,
          "elapsed": 287,
          "user": {
            "displayName": "",
            "userId": ""
          }
        }
      },
      "execution_count": 65,
      "outputs": []
    },
    {
      "cell_type": "code",
      "source": [
        "#deploy 2nd gen cloud functions\n",
        "gcloud_deploycloudfunction = f\"\"\"\n",
        "gcloud functions deploy {CLOUD_FUNCTION_NAME} \\\n",
        "--gen2 \\\n",
        "--runtime=python312 \\\n",
        "--region={REGION} \\\n",
        "--source={FUNCTION_ZIP_GCS_URI} \\\n",
        "--entry-point={CLOUD_FUNCTION_NAME} \\\n",
        "--set-env-vars PROJECT_ID={PROJECT_ID},ENV_CLOUD_FUNCTION_REGION={REGION} \\\n",
        "--no-allow-unauthenticated \\\n",
        "--trigger-http\n",
        "\"\"\"\n",
        "print(gcloud_deploycloudfunction)\n",
        "!$gcloud_deploycloudfunction"
      ],
      "metadata": {
        "id": "AQVF4LLtTUS2",
        "collapsed": true
      },
      "execution_count": null,
      "outputs": []
    },
    {
      "cell_type": "code",
      "source": [
        "#grant invoke permissions to 2nd gen cloud functions\n",
        "gcloud_runinvoker_external_function = f\"\"\"\n",
        "gcloud functions add-invoker-policy-binding {CLOUD_FUNCTION_NAME} --region=\"{REGION}\" --no-user-output-enabled --member=\"{SERVICE_ACCT_MEMBER}\"\n",
        "\"\"\"\n",
        "print(gcloud_runinvoker_external_function)\n",
        "!$gcloud_runinvoker_external_function"
      ],
      "metadata": {
        "collapsed": true,
        "id": "CEqqH4YP6G1O"
      },
      "execution_count": null,
      "outputs": []
    },
    {
      "cell_type": "markdown",
      "source": [
        "# Setup : Grant the necessary permissions to the Dataform Service Account after repository creation\n"
      ],
      "metadata": {
        "id": "QI8a3JYPFR9f"
      }
    },
    {
      "cell_type": "code",
      "source": [
        "import os\n",
        "PROJECT_ID = os.environ[\"GOOGLE_CLOUD_PROJECT\"]\n",
        "\n",
        "DATAFORM_SERVICE_ACCT = !gcloud projects get-iam-policy $PROJECT_ID --flatten=\"bindings[].members\" --format=\"table(bindings.members)\" --filter=\"bindings.members:gcp-sa-dataform\" | grep \"serviceAccount\" | cut -d ':' -f 2\n",
        "DATAFORM_SERVICE_ACCT_EMAIL = DATAFORM_SERVICE_ACCT[-1]\n",
        "DATAFORM_SERVICE_ACCT_MEMBER = 'serviceAccount:' + DATAFORM_SERVICE_ACCT_EMAIL\n",
        "\n",
        "###################################\n",
        "#Secret access\n",
        "gcloud_secretmanager = f\"\"\"\n",
        "gcloud projects add-iam-policy-binding {PROJECT_ID} --condition=None --no-user-output-enabled --member=\"{DATAFORM_SERVICE_ACCT_MEMBER}\" --role=\"roles/secretmanager.secretAccessor\"\n",
        "\"\"\"\n",
        "print(gcloud_secretmanager)\n",
        "!$gcloud_secretmanager\n",
        "\n",
        "###################################\n",
        "#BigQuery User\n",
        "gcloud_bigqueryuser = f\"\"\"\n",
        "gcloud projects add-iam-policy-binding {PROJECT_ID} --condition=None --no-user-output-enabled --member=\"{DATAFORM_SERVICE_ACCT_MEMBER}\" --role=\"roles/bigquery.user\"\n",
        "\"\"\"\n",
        "print(gcloud_bigqueryuser)\n",
        "!$gcloud_bigqueryuser\n",
        "\n",
        "###################################\n",
        "#Connection Admin\n",
        "gcloud_connectionadmin = f\"\"\"\n",
        "gcloud projects add-iam-policy-binding {PROJECT_ID} --condition=None --no-user-output-enabled --member=\"{DATAFORM_SERVICE_ACCT_MEMBER}\" --role=\"roles/bigquery.connectionAdmin\"\n",
        "\"\"\"\n",
        "print(gcloud_connectionadmin)\n",
        "!$gcloud_connectionadmin\n",
        "\n",
        "###################################\n",
        "#IAM roles validation\n",
        "!gcloud projects get-iam-policy $PROJECT_ID --flatten=\"bindings[].members\" --format=\"table(bindings.role)\" --filter=\"bindings.members:$DATAFORM_SERVICE_ACCT_MEMBER\""
      ],
      "metadata": {
        "id": "YiktKBZwH4C6"
      },
      "execution_count": null,
      "outputs": []
    },
    {
      "cell_type": "markdown",
      "source": [
        "---\n",
        "---\n",
        "---\n",
        "---\n",
        "# List/Download/Play sample audios"
      ],
      "metadata": {
        "id": "K6tR4LxCISBt"
      }
    },
    {
      "cell_type": "code",
      "source": [
        "%%bigquery\n",
        "--source table = source.reviews_audios\n",
        "SELECT REGEXP_EXTRACT(uri,  r'text_synth_(\\d+)\\.mp3') as trip_id,*\n",
        "  FROM EXTERNAL_OBJECT_TRANSFORM(TABLE `source.reviews_audios`, ['SIGNED_URL'])\n",
        " LIMIT 5;"
      ],
      "metadata": {
        "collapsed": true,
        "id": "U9vUQrbyI3K0"
      },
      "execution_count": null,
      "outputs": []
    },
    {
      "cell_type": "code",
      "source": [
        "trip_id = '30618713' #@param{type:\"string\"}\n",
        "params = { \"trip_id\": trip_id}"
      ],
      "metadata": {
        "id": "QC2vkgQTJFiN",
        "executionInfo": {
          "status": "ok",
          "timestamp": 1718812099153,
          "user_tz": -60,
          "elapsed": 232,
          "user": {
            "displayName": "",
            "userId": ""
          }
        }
      },
      "execution_count": 89,
      "outputs": []
    },
    {
      "cell_type": "code",
      "source": [
        "%%bigquery signed_url --params $params\n",
        "--source table = source.reviews_audios\n",
        "WITH signed_urls AS (\n",
        "  SELECT signed_url,\n",
        "         REGEXP_EXTRACT(uri,  r'text_synth_(\\d+)\\.mp3') as trip_id\n",
        "  FROM EXTERNAL_OBJECT_TRANSFORM(TABLE `source.reviews_audios`, ['SIGNED_URL'])\n",
        ")\n",
        "SELECT signed_url\n",
        "FROM signed_urls\n",
        "WHERE trip_id = @trip_id;"
      ],
      "metadata": {
        "id": "_xNz2Wp2JPCi"
      },
      "execution_count": null,
      "outputs": []
    },
    {
      "cell_type": "code",
      "source": [
        "import requests\n",
        "\n",
        "response = requests.get(signed_url['signed_url'][0],stream=True)\n",
        "with open(f'text_synth_{trip_id}.mp3', 'wb') as f:\n",
        "  f.write(response.content)\n",
        "\n",
        "import IPython.display\n",
        "IPython.display.Audio(f'text_synth_{trip_id}.mp3',rate=16000)"
      ],
      "metadata": {
        "id": "D7NuX7xbJTHJ"
      },
      "execution_count": null,
      "outputs": []
    }
  ]
}